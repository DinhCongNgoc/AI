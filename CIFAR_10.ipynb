{
  "nbformat": 4,
  "nbformat_minor": 0,
  "metadata": {
    "colab": {
      "name": "CIFAR_10.ipynb",
      "provenance": [],
      "authorship_tag": "ABX9TyPd99tMddqPIb71p13TLHiw",
      "include_colab_link": true
    },
    "kernelspec": {
      "name": "python3",
      "display_name": "Python 3"
    },
    "language_info": {
      "name": "python"
    }
  },
  "cells": [
    {
      "cell_type": "markdown",
      "metadata": {
        "id": "view-in-github",
        "colab_type": "text"
      },
      "source": [
        "<a href=\"https://colab.research.google.com/github/DinhCongNgoc/AI/blob/main/CIFAR_10.ipynb\" target=\"_parent\"><img src=\"https://colab.research.google.com/assets/colab-badge.svg\" alt=\"Open In Colab\"/></a>"
      ]
    },
    {
      "cell_type": "code",
      "execution_count": 1,
      "metadata": {
        "id": "qZV1iFhrUlZ8"
      },
      "outputs": [],
      "source": [
        "import numpy as np #Khai báo thư viện numpy là np \n",
        "from keras.utils import np_utils # thư viện xử lý chuyển class\n",
        "from keras.datasets import cifar10 # gọi tập dataset động vật, máy bay \n",
        "from keras.models import Sequential # hàm chạy mô hình\n",
        "from keras.layers import Dense, Dropout # tạo mạng nơ ron\n",
        "from tensorflow.keras.optimizers import RMSprop \n",
        "import matplotlib.pyplot as plt  # thư viện dùng để vẽ\n",
        "from keras.backend import dropout"
      ]
    },
    {
      "cell_type": "code",
      "source": [
        "# chia tập dữ liệu thành 2 bộ train và test\n",
        "(x_train, y_train),(x_test,y_test) = cifar10.load_data()"
      ],
      "metadata": {
        "colab": {
          "base_uri": "https://localhost:8080/"
        },
        "id": "lNTO-_FMUz-C",
        "outputId": "3125b607-47f3-4c92-9a42-7337a6b80013"
      },
      "execution_count": 2,
      "outputs": [
        {
          "output_type": "stream",
          "name": "stdout",
          "text": [
            "Downloading data from https://www.cs.toronto.edu/~kriz/cifar-10-python.tar.gz\n",
            "170500096/170498071 [==============================] - 6s 0us/step\n",
            "170508288/170498071 [==============================] - 6s 0us/step\n"
          ]
        }
      ]
    },
    {
      "cell_type": "code",
      "source": [
        "# xem kích thược của tập dữ liệu\n",
        "print('Kích thước x_train: ', x_train.shape)\n",
        "print('Kích thước y_train: ', y_train.shape)\n",
        "print('Kích thước x_test: ', x_test.shape)\n",
        "print('Kích thước y_test: ', y_test.shape)"
      ],
      "metadata": {
        "colab": {
          "base_uri": "https://localhost:8080/"
        },
        "id": "ChNxoBGrU49V",
        "outputId": "ac938916-f632-4e4e-9cca-60d392cf9e83"
      },
      "execution_count": 3,
      "outputs": [
        {
          "output_type": "stream",
          "name": "stdout",
          "text": [
            "Kích thước x_train:  (50000, 32, 32, 3)\n",
            "Kích thước y_train:  (50000, 1)\n",
            "Kích thước x_test:  (10000, 32, 32, 3)\n",
            "Kích thước y_test:  (10000, 1)\n"
          ]
        }
      ]
    },
    {
      "cell_type": "code",
      "source": [
        "#chuyển chiều của x từ 3 chiều về 2 chiều VÌ cifar10 ở đầu vào có 4 chiều để chuyển về\n",
        "# 2 chiều bằng cách 32*32*3=3072\n",
        "x_train = x_train.reshape(50000,3072)\n",
        "x_test = x_test.reshape(10000,3072)\n",
        "# ép kiểu\n",
        "x_train = x_train.astype('float32')\n",
        "x_test = x_test.astype('float32')\n",
        "#chuẩn hóa dữ liệu\n",
        "x_train /=255\n",
        "x_test /=255\n",
        "#chuyển y từ 1 class thành 10 class\n",
        "y_train = np_utils.to_categorical(y_train,10)\n",
        "y_test = np_utils.to_categorical(y_test,10)"
      ],
      "metadata": {
        "id": "kcUpg9OVU_Gr"
      },
      "execution_count": 4,
      "outputs": []
    },
    {
      "cell_type": "code",
      "source": [
        "#tạo mạng nơ-ron\n",
        "model = Sequential()\n",
        "model.add(Dense(512,activation='relu',input_shape=(3072,)))\n",
        "model.add(Dropout(0.2))\n",
        "model.add(Dense(512,activation='relu'))\n",
        "model.add(Dropout(0.2))\n",
        "model.add(Dense(10,activation='softmax'))\n",
        "model.summary()"
      ],
      "metadata": {
        "colab": {
          "base_uri": "https://localhost:8080/"
        },
        "id": "HdDLXaf1VBxc",
        "outputId": "fe223ee5-6d77-4bb2-c76d-9dfab9de7d83"
      },
      "execution_count": 5,
      "outputs": [
        {
          "output_type": "stream",
          "name": "stdout",
          "text": [
            "Model: \"sequential\"\n",
            "_________________________________________________________________\n",
            " Layer (type)                Output Shape              Param #   \n",
            "=================================================================\n",
            " dense (Dense)               (None, 512)               1573376   \n",
            "                                                                 \n",
            " dropout (Dropout)           (None, 512)               0         \n",
            "                                                                 \n",
            " dense_1 (Dense)             (None, 512)               262656    \n",
            "                                                                 \n",
            " dropout_1 (Dropout)         (None, 512)               0         \n",
            "                                                                 \n",
            " dense_2 (Dense)             (None, 10)                5130      \n",
            "                                                                 \n",
            "=================================================================\n",
            "Total params: 1,841,162\n",
            "Trainable params: 1,841,162\n",
            "Non-trainable params: 0\n",
            "_________________________________________________________________\n"
          ]
        }
      ]
    },
    {
      "cell_type": "code",
      "source": [
        "#chạy model với số lần học là 500 và độ kiên nhẫn là 100\n",
        "model.compile(loss='categorical_crossentropy',optimizer=RMSprop(), metrics=['accuracy'])\n",
        "model.compile(loss='categorical_crossentropy',optimizer=RMSprop(), metrics=['accuracy'])\n",
        "from keras.callbacks import EarlyStopping\n",
        "history = model.fit(x_train,y_train,batch_size=128,epochs=500,verbose=1,\n",
        "                    validation_split=0.2,callbacks=[EarlyStopping(monitor='val_loss',patience=100)])"
      ],
      "metadata": {
        "colab": {
          "base_uri": "https://localhost:8080/"
        },
        "id": "cz2WvLKaVGrd",
        "outputId": "5f204711-7517-4e31-92fd-6ef0bc725f0b"
      },
      "execution_count": 6,
      "outputs": [
        {
          "output_type": "stream",
          "name": "stdout",
          "text": [
            "Epoch 1/500\n",
            "313/313 [==============================] - 13s 41ms/step - loss: 2.1527 - accuracy: 0.2349 - val_loss: 1.9979 - val_accuracy: 0.2528\n",
            "Epoch 2/500\n",
            "313/313 [==============================] - 12s 40ms/step - loss: 1.8747 - accuracy: 0.3227 - val_loss: 1.7914 - val_accuracy: 0.3643\n",
            "Epoch 3/500\n",
            "313/313 [==============================] - 12s 40ms/step - loss: 1.7919 - accuracy: 0.3554 - val_loss: 1.7594 - val_accuracy: 0.3756\n",
            "Epoch 4/500\n",
            "313/313 [==============================] - 12s 39ms/step - loss: 1.7456 - accuracy: 0.3727 - val_loss: 1.7304 - val_accuracy: 0.3834\n",
            "Epoch 5/500\n",
            "313/313 [==============================] - 12s 40ms/step - loss: 1.7000 - accuracy: 0.3902 - val_loss: 1.7046 - val_accuracy: 0.3883\n",
            "Epoch 6/500\n",
            "313/313 [==============================] - 12s 39ms/step - loss: 1.6748 - accuracy: 0.4002 - val_loss: 1.6936 - val_accuracy: 0.3933\n",
            "Epoch 7/500\n",
            "313/313 [==============================] - 14s 43ms/step - loss: 1.6514 - accuracy: 0.4085 - val_loss: 1.6134 - val_accuracy: 0.4318\n",
            "Epoch 8/500\n",
            "313/313 [==============================] - 12s 39ms/step - loss: 1.6272 - accuracy: 0.4196 - val_loss: 1.6567 - val_accuracy: 0.4179\n",
            "Epoch 9/500\n",
            "313/313 [==============================] - 13s 40ms/step - loss: 1.6102 - accuracy: 0.4220 - val_loss: 1.5515 - val_accuracy: 0.4520\n",
            "Epoch 10/500\n",
            "313/313 [==============================] - 13s 40ms/step - loss: 1.5955 - accuracy: 0.4269 - val_loss: 1.6776 - val_accuracy: 0.4135\n",
            "Epoch 11/500\n",
            "313/313 [==============================] - 12s 39ms/step - loss: 1.5786 - accuracy: 0.4368 - val_loss: 1.5739 - val_accuracy: 0.4434\n",
            "Epoch 12/500\n",
            "313/313 [==============================] - 12s 39ms/step - loss: 1.5737 - accuracy: 0.4388 - val_loss: 1.6110 - val_accuracy: 0.4348\n",
            "Epoch 13/500\n",
            "313/313 [==============================] - 12s 39ms/step - loss: 1.5607 - accuracy: 0.4410 - val_loss: 1.5525 - val_accuracy: 0.4522\n",
            "Epoch 14/500\n",
            "313/313 [==============================] - 12s 39ms/step - loss: 1.5455 - accuracy: 0.4500 - val_loss: 1.5974 - val_accuracy: 0.4335\n",
            "Epoch 15/500\n",
            "313/313 [==============================] - 12s 39ms/step - loss: 1.5367 - accuracy: 0.4511 - val_loss: 1.5529 - val_accuracy: 0.4592\n",
            "Epoch 16/500\n",
            "313/313 [==============================] - 12s 39ms/step - loss: 1.5280 - accuracy: 0.4556 - val_loss: 1.6317 - val_accuracy: 0.4208\n",
            "Epoch 17/500\n",
            "313/313 [==============================] - 12s 39ms/step - loss: 1.5183 - accuracy: 0.4594 - val_loss: 1.5961 - val_accuracy: 0.4365\n",
            "Epoch 18/500\n",
            "313/313 [==============================] - 12s 39ms/step - loss: 1.5071 - accuracy: 0.4611 - val_loss: 1.5402 - val_accuracy: 0.4593\n",
            "Epoch 19/500\n",
            "313/313 [==============================] - 12s 39ms/step - loss: 1.4966 - accuracy: 0.4657 - val_loss: 1.5460 - val_accuracy: 0.4528\n",
            "Epoch 20/500\n",
            "313/313 [==============================] - 12s 39ms/step - loss: 1.4969 - accuracy: 0.4642 - val_loss: 1.6075 - val_accuracy: 0.4306\n",
            "Epoch 21/500\n",
            "313/313 [==============================] - 12s 39ms/step - loss: 1.4926 - accuracy: 0.4700 - val_loss: 1.5698 - val_accuracy: 0.4483\n",
            "Epoch 22/500\n",
            "313/313 [==============================] - 12s 39ms/step - loss: 1.4815 - accuracy: 0.4707 - val_loss: 1.5338 - val_accuracy: 0.4597\n",
            "Epoch 23/500\n",
            "313/313 [==============================] - 12s 39ms/step - loss: 1.4794 - accuracy: 0.4690 - val_loss: 1.5611 - val_accuracy: 0.4514\n",
            "Epoch 24/500\n",
            "313/313 [==============================] - 12s 39ms/step - loss: 1.4742 - accuracy: 0.4733 - val_loss: 1.5081 - val_accuracy: 0.4718\n",
            "Epoch 25/500\n",
            "313/313 [==============================] - 12s 39ms/step - loss: 1.4670 - accuracy: 0.4785 - val_loss: 1.5027 - val_accuracy: 0.4680\n",
            "Epoch 26/500\n",
            "313/313 [==============================] - 12s 39ms/step - loss: 1.4607 - accuracy: 0.4805 - val_loss: 1.6287 - val_accuracy: 0.4172\n",
            "Epoch 27/500\n",
            "313/313 [==============================] - 12s 39ms/step - loss: 1.4580 - accuracy: 0.4819 - val_loss: 1.4952 - val_accuracy: 0.4771\n",
            "Epoch 28/500\n",
            "313/313 [==============================] - 12s 39ms/step - loss: 1.4514 - accuracy: 0.4807 - val_loss: 1.4878 - val_accuracy: 0.4802\n",
            "Epoch 29/500\n",
            "313/313 [==============================] - 12s 39ms/step - loss: 1.4466 - accuracy: 0.4879 - val_loss: 1.5048 - val_accuracy: 0.4742\n",
            "Epoch 30/500\n",
            "313/313 [==============================] - 12s 39ms/step - loss: 1.4519 - accuracy: 0.4811 - val_loss: 1.4780 - val_accuracy: 0.4861\n",
            "Epoch 31/500\n",
            "313/313 [==============================] - 12s 39ms/step - loss: 1.4418 - accuracy: 0.4864 - val_loss: 1.5889 - val_accuracy: 0.4287\n",
            "Epoch 32/500\n",
            "313/313 [==============================] - 12s 39ms/step - loss: 1.4382 - accuracy: 0.4922 - val_loss: 1.6438 - val_accuracy: 0.4335\n",
            "Epoch 33/500\n",
            "313/313 [==============================] - 12s 39ms/step - loss: 1.4264 - accuracy: 0.4933 - val_loss: 1.5094 - val_accuracy: 0.4734\n",
            "Epoch 34/500\n",
            "313/313 [==============================] - 12s 39ms/step - loss: 1.4303 - accuracy: 0.4918 - val_loss: 1.5351 - val_accuracy: 0.4689\n",
            "Epoch 35/500\n",
            "313/313 [==============================] - 12s 39ms/step - loss: 1.4284 - accuracy: 0.4937 - val_loss: 1.5106 - val_accuracy: 0.4716\n",
            "Epoch 36/500\n",
            "313/313 [==============================] - 12s 39ms/step - loss: 1.4183 - accuracy: 0.4947 - val_loss: 1.4955 - val_accuracy: 0.4800\n",
            "Epoch 37/500\n",
            "313/313 [==============================] - 12s 39ms/step - loss: 1.4184 - accuracy: 0.4944 - val_loss: 1.5574 - val_accuracy: 0.4593\n",
            "Epoch 38/500\n",
            "313/313 [==============================] - 12s 39ms/step - loss: 1.4156 - accuracy: 0.4979 - val_loss: 1.5255 - val_accuracy: 0.4823\n",
            "Epoch 39/500\n",
            "313/313 [==============================] - 12s 39ms/step - loss: 1.4112 - accuracy: 0.4992 - val_loss: 1.5157 - val_accuracy: 0.4663\n",
            "Epoch 40/500\n",
            "313/313 [==============================] - 12s 39ms/step - loss: 1.4100 - accuracy: 0.5003 - val_loss: 1.5637 - val_accuracy: 0.4619\n",
            "Epoch 41/500\n",
            "313/313 [==============================] - 12s 39ms/step - loss: 1.4084 - accuracy: 0.4996 - val_loss: 1.4985 - val_accuracy: 0.4758\n",
            "Epoch 42/500\n",
            "313/313 [==============================] - 12s 39ms/step - loss: 1.4001 - accuracy: 0.5007 - val_loss: 1.5232 - val_accuracy: 0.4713\n",
            "Epoch 43/500\n",
            "313/313 [==============================] - 12s 39ms/step - loss: 1.4010 - accuracy: 0.5034 - val_loss: 1.4947 - val_accuracy: 0.4800\n",
            "Epoch 44/500\n",
            "313/313 [==============================] - 12s 39ms/step - loss: 1.3933 - accuracy: 0.5059 - val_loss: 1.5181 - val_accuracy: 0.4653\n",
            "Epoch 45/500\n",
            "313/313 [==============================] - 12s 39ms/step - loss: 1.3886 - accuracy: 0.5066 - val_loss: 1.4997 - val_accuracy: 0.4836\n",
            "Epoch 46/500\n",
            "313/313 [==============================] - 12s 39ms/step - loss: 1.3920 - accuracy: 0.5063 - val_loss: 1.6458 - val_accuracy: 0.4324\n",
            "Epoch 47/500\n",
            "313/313 [==============================] - 12s 39ms/step - loss: 1.3948 - accuracy: 0.5046 - val_loss: 1.4964 - val_accuracy: 0.4945\n",
            "Epoch 48/500\n",
            "313/313 [==============================] - 12s 39ms/step - loss: 1.3901 - accuracy: 0.5066 - val_loss: 1.6215 - val_accuracy: 0.4520\n",
            "Epoch 49/500\n",
            "313/313 [==============================] - 12s 39ms/step - loss: 1.3904 - accuracy: 0.5062 - val_loss: 1.5717 - val_accuracy: 0.4654\n",
            "Epoch 50/500\n",
            "313/313 [==============================] - 12s 39ms/step - loss: 1.3828 - accuracy: 0.5077 - val_loss: 1.5501 - val_accuracy: 0.4674\n",
            "Epoch 51/500\n",
            "313/313 [==============================] - 12s 39ms/step - loss: 1.3840 - accuracy: 0.5085 - val_loss: 1.5468 - val_accuracy: 0.4738\n",
            "Epoch 52/500\n",
            "313/313 [==============================] - 12s 39ms/step - loss: 1.3859 - accuracy: 0.5059 - val_loss: 1.5319 - val_accuracy: 0.4802\n",
            "Epoch 53/500\n",
            "313/313 [==============================] - 12s 39ms/step - loss: 1.3831 - accuracy: 0.5097 - val_loss: 1.4827 - val_accuracy: 0.4942\n",
            "Epoch 54/500\n",
            "313/313 [==============================] - 12s 39ms/step - loss: 1.3775 - accuracy: 0.5140 - val_loss: 1.5260 - val_accuracy: 0.4843\n",
            "Epoch 55/500\n",
            "313/313 [==============================] - 12s 39ms/step - loss: 1.3733 - accuracy: 0.5125 - val_loss: 1.4967 - val_accuracy: 0.4878\n",
            "Epoch 56/500\n",
            "313/313 [==============================] - 12s 39ms/step - loss: 1.3754 - accuracy: 0.5128 - val_loss: 1.5242 - val_accuracy: 0.4857\n",
            "Epoch 57/500\n",
            "313/313 [==============================] - 12s 39ms/step - loss: 1.3692 - accuracy: 0.5141 - val_loss: 1.4879 - val_accuracy: 0.4841\n",
            "Epoch 58/500\n",
            "313/313 [==============================] - 12s 39ms/step - loss: 1.3646 - accuracy: 0.5167 - val_loss: 1.5977 - val_accuracy: 0.4522\n",
            "Epoch 59/500\n",
            "313/313 [==============================] - 12s 39ms/step - loss: 1.3682 - accuracy: 0.5158 - val_loss: 1.5179 - val_accuracy: 0.4749\n",
            "Epoch 60/500\n",
            "313/313 [==============================] - 12s 39ms/step - loss: 1.3594 - accuracy: 0.5173 - val_loss: 1.5427 - val_accuracy: 0.4729\n",
            "Epoch 61/500\n",
            "313/313 [==============================] - 12s 39ms/step - loss: 1.3670 - accuracy: 0.5179 - val_loss: 1.5467 - val_accuracy: 0.4674\n",
            "Epoch 62/500\n",
            "313/313 [==============================] - 12s 39ms/step - loss: 1.3652 - accuracy: 0.5169 - val_loss: 1.5455 - val_accuracy: 0.4705\n",
            "Epoch 63/500\n",
            "313/313 [==============================] - 12s 39ms/step - loss: 1.3585 - accuracy: 0.5195 - val_loss: 1.5346 - val_accuracy: 0.4836\n",
            "Epoch 64/500\n",
            "313/313 [==============================] - 12s 38ms/step - loss: 1.3577 - accuracy: 0.5200 - val_loss: 1.6154 - val_accuracy: 0.4468\n",
            "Epoch 65/500\n",
            "313/313 [==============================] - 12s 39ms/step - loss: 1.3591 - accuracy: 0.5189 - val_loss: 1.5619 - val_accuracy: 0.4712\n",
            "Epoch 66/500\n",
            "313/313 [==============================] - 12s 39ms/step - loss: 1.3607 - accuracy: 0.5176 - val_loss: 1.5864 - val_accuracy: 0.4546\n",
            "Epoch 67/500\n",
            "313/313 [==============================] - 12s 39ms/step - loss: 1.3511 - accuracy: 0.5210 - val_loss: 1.5816 - val_accuracy: 0.4634\n",
            "Epoch 68/500\n",
            "313/313 [==============================] - 12s 38ms/step - loss: 1.3629 - accuracy: 0.5212 - val_loss: 1.5938 - val_accuracy: 0.4657\n",
            "Epoch 69/500\n",
            "313/313 [==============================] - 12s 39ms/step - loss: 1.3514 - accuracy: 0.5221 - val_loss: 1.5841 - val_accuracy: 0.4482\n",
            "Epoch 70/500\n",
            "313/313 [==============================] - 12s 39ms/step - loss: 1.3602 - accuracy: 0.5192 - val_loss: 1.5744 - val_accuracy: 0.4580\n",
            "Epoch 71/500\n",
            "313/313 [==============================] - 12s 39ms/step - loss: 1.3584 - accuracy: 0.5201 - val_loss: 1.5816 - val_accuracy: 0.4704\n",
            "Epoch 72/500\n",
            "313/313 [==============================] - 12s 39ms/step - loss: 1.3500 - accuracy: 0.5234 - val_loss: 1.5044 - val_accuracy: 0.4979\n",
            "Epoch 73/500\n",
            "313/313 [==============================] - 12s 39ms/step - loss: 1.3579 - accuracy: 0.5218 - val_loss: 1.5807 - val_accuracy: 0.4857\n",
            "Epoch 74/500\n",
            "313/313 [==============================] - 12s 39ms/step - loss: 1.3493 - accuracy: 0.5243 - val_loss: 1.5114 - val_accuracy: 0.4838\n",
            "Epoch 75/500\n",
            "313/313 [==============================] - 12s 39ms/step - loss: 1.3556 - accuracy: 0.5217 - val_loss: 1.5320 - val_accuracy: 0.4886\n",
            "Epoch 76/500\n",
            "313/313 [==============================] - 12s 39ms/step - loss: 1.3476 - accuracy: 0.5250 - val_loss: 1.6972 - val_accuracy: 0.4544\n",
            "Epoch 77/500\n",
            "313/313 [==============================] - 12s 39ms/step - loss: 1.3474 - accuracy: 0.5228 - val_loss: 1.5156 - val_accuracy: 0.4964\n",
            "Epoch 78/500\n",
            "313/313 [==============================] - 12s 39ms/step - loss: 1.3347 - accuracy: 0.5263 - val_loss: 1.5443 - val_accuracy: 0.4746\n",
            "Epoch 79/500\n",
            "313/313 [==============================] - 12s 39ms/step - loss: 1.3399 - accuracy: 0.5268 - val_loss: 1.5748 - val_accuracy: 0.4650\n",
            "Epoch 80/500\n",
            "313/313 [==============================] - 12s 39ms/step - loss: 1.3344 - accuracy: 0.5276 - val_loss: 1.5747 - val_accuracy: 0.4795\n",
            "Epoch 81/500\n",
            "313/313 [==============================] - 12s 39ms/step - loss: 1.3340 - accuracy: 0.5296 - val_loss: 1.6311 - val_accuracy: 0.4608\n",
            "Epoch 82/500\n",
            "313/313 [==============================] - 12s 39ms/step - loss: 1.3352 - accuracy: 0.5298 - val_loss: 1.5890 - val_accuracy: 0.4513\n",
            "Epoch 83/500\n",
            "313/313 [==============================] - 12s 39ms/step - loss: 1.3347 - accuracy: 0.5290 - val_loss: 1.5597 - val_accuracy: 0.4908\n",
            "Epoch 84/500\n",
            "313/313 [==============================] - 12s 39ms/step - loss: 1.3412 - accuracy: 0.5252 - val_loss: 1.5842 - val_accuracy: 0.4614\n",
            "Epoch 85/500\n",
            "313/313 [==============================] - 12s 38ms/step - loss: 1.3360 - accuracy: 0.5293 - val_loss: 1.5307 - val_accuracy: 0.4783\n",
            "Epoch 86/500\n",
            "313/313 [==============================] - 12s 39ms/step - loss: 1.3366 - accuracy: 0.5282 - val_loss: 1.5993 - val_accuracy: 0.4734\n",
            "Epoch 87/500\n",
            "313/313 [==============================] - 12s 38ms/step - loss: 1.3382 - accuracy: 0.5293 - val_loss: 1.5078 - val_accuracy: 0.4998\n",
            "Epoch 88/500\n",
            "313/313 [==============================] - 12s 38ms/step - loss: 1.3367 - accuracy: 0.5297 - val_loss: 1.5409 - val_accuracy: 0.4731\n",
            "Epoch 89/500\n",
            "313/313 [==============================] - 12s 39ms/step - loss: 1.3414 - accuracy: 0.5259 - val_loss: 1.5887 - val_accuracy: 0.4534\n",
            "Epoch 90/500\n",
            "313/313 [==============================] - 12s 38ms/step - loss: 1.3367 - accuracy: 0.5266 - val_loss: 1.5126 - val_accuracy: 0.4878\n",
            "Epoch 91/500\n",
            "313/313 [==============================] - 12s 39ms/step - loss: 1.3332 - accuracy: 0.5274 - val_loss: 1.5883 - val_accuracy: 0.4723\n",
            "Epoch 92/500\n",
            "313/313 [==============================] - 12s 38ms/step - loss: 1.3297 - accuracy: 0.5287 - val_loss: 1.5613 - val_accuracy: 0.4762\n",
            "Epoch 93/500\n",
            "313/313 [==============================] - 12s 38ms/step - loss: 1.3320 - accuracy: 0.5284 - val_loss: 1.6401 - val_accuracy: 0.4675\n",
            "Epoch 94/500\n",
            "313/313 [==============================] - 12s 39ms/step - loss: 1.3294 - accuracy: 0.5333 - val_loss: 1.5786 - val_accuracy: 0.4723\n",
            "Epoch 95/500\n",
            "313/313 [==============================] - 12s 39ms/step - loss: 1.3225 - accuracy: 0.5350 - val_loss: 1.6477 - val_accuracy: 0.4695\n",
            "Epoch 96/500\n",
            "313/313 [==============================] - 12s 39ms/step - loss: 1.3271 - accuracy: 0.5313 - val_loss: 1.6453 - val_accuracy: 0.4488\n",
            "Epoch 97/500\n",
            "313/313 [==============================] - 12s 38ms/step - loss: 1.3320 - accuracy: 0.5319 - val_loss: 1.5832 - val_accuracy: 0.4743\n",
            "Epoch 98/500\n",
            "313/313 [==============================] - 12s 39ms/step - loss: 1.3265 - accuracy: 0.5349 - val_loss: 1.7161 - val_accuracy: 0.4592\n",
            "Epoch 99/500\n",
            "313/313 [==============================] - 12s 39ms/step - loss: 1.3271 - accuracy: 0.5349 - val_loss: 1.5660 - val_accuracy: 0.4691\n",
            "Epoch 100/500\n",
            "313/313 [==============================] - 12s 39ms/step - loss: 1.3413 - accuracy: 0.5292 - val_loss: 1.5487 - val_accuracy: 0.4734\n",
            "Epoch 101/500\n",
            "313/313 [==============================] - 12s 39ms/step - loss: 1.3237 - accuracy: 0.5315 - val_loss: 1.5336 - val_accuracy: 0.4892\n",
            "Epoch 102/500\n",
            "313/313 [==============================] - 12s 39ms/step - loss: 1.3225 - accuracy: 0.5342 - val_loss: 1.7318 - val_accuracy: 0.4501\n",
            "Epoch 103/500\n",
            "313/313 [==============================] - 12s 39ms/step - loss: 1.3293 - accuracy: 0.5312 - val_loss: 1.5955 - val_accuracy: 0.4708\n",
            "Epoch 104/500\n",
            "313/313 [==============================] - 12s 39ms/step - loss: 1.3259 - accuracy: 0.5365 - val_loss: 1.5384 - val_accuracy: 0.4822\n",
            "Epoch 105/500\n",
            "313/313 [==============================] - 12s 39ms/step - loss: 1.3204 - accuracy: 0.5384 - val_loss: 1.6693 - val_accuracy: 0.4408\n",
            "Epoch 106/500\n",
            "313/313 [==============================] - 12s 39ms/step - loss: 1.3219 - accuracy: 0.5337 - val_loss: 1.7520 - val_accuracy: 0.4386\n",
            "Epoch 107/500\n",
            "313/313 [==============================] - 12s 39ms/step - loss: 1.3245 - accuracy: 0.5356 - val_loss: 1.5944 - val_accuracy: 0.4747\n",
            "Epoch 108/500\n",
            "313/313 [==============================] - 12s 39ms/step - loss: 1.3193 - accuracy: 0.5367 - val_loss: 1.5696 - val_accuracy: 0.4808\n",
            "Epoch 109/500\n",
            "313/313 [==============================] - 12s 39ms/step - loss: 1.3232 - accuracy: 0.5347 - val_loss: 1.6381 - val_accuracy: 0.4769\n",
            "Epoch 110/500\n",
            "313/313 [==============================] - 12s 39ms/step - loss: 1.3212 - accuracy: 0.5351 - val_loss: 1.6090 - val_accuracy: 0.4612\n",
            "Epoch 111/500\n",
            "313/313 [==============================] - 12s 39ms/step - loss: 1.3166 - accuracy: 0.5365 - val_loss: 1.6400 - val_accuracy: 0.4627\n",
            "Epoch 112/500\n",
            "313/313 [==============================] - 12s 39ms/step - loss: 1.3241 - accuracy: 0.5328 - val_loss: 1.5909 - val_accuracy: 0.4804\n",
            "Epoch 113/500\n",
            "313/313 [==============================] - 12s 39ms/step - loss: 1.3180 - accuracy: 0.5400 - val_loss: 1.6542 - val_accuracy: 0.4420\n",
            "Epoch 114/500\n",
            "313/313 [==============================] - 12s 39ms/step - loss: 1.3213 - accuracy: 0.5362 - val_loss: 1.5734 - val_accuracy: 0.4738\n",
            "Epoch 115/500\n",
            "313/313 [==============================] - 12s 39ms/step - loss: 1.3231 - accuracy: 0.5391 - val_loss: 1.6293 - val_accuracy: 0.4645\n",
            "Epoch 116/500\n",
            "313/313 [==============================] - 12s 39ms/step - loss: 1.3242 - accuracy: 0.5368 - val_loss: 1.5811 - val_accuracy: 0.4780\n",
            "Epoch 117/500\n",
            "313/313 [==============================] - 12s 39ms/step - loss: 1.3196 - accuracy: 0.5384 - val_loss: 1.6635 - val_accuracy: 0.4502\n",
            "Epoch 118/500\n",
            "313/313 [==============================] - 12s 39ms/step - loss: 1.3157 - accuracy: 0.5372 - val_loss: 1.6036 - val_accuracy: 0.4616\n",
            "Epoch 119/500\n",
            "313/313 [==============================] - 12s 39ms/step - loss: 1.3089 - accuracy: 0.5409 - val_loss: 1.6354 - val_accuracy: 0.4626\n",
            "Epoch 120/500\n",
            "313/313 [==============================] - 12s 39ms/step - loss: 1.3209 - accuracy: 0.5365 - val_loss: 1.6072 - val_accuracy: 0.4736\n",
            "Epoch 121/500\n",
            "313/313 [==============================] - 12s 39ms/step - loss: 1.3187 - accuracy: 0.5369 - val_loss: 1.6412 - val_accuracy: 0.4789\n",
            "Epoch 122/500\n",
            "313/313 [==============================] - 12s 39ms/step - loss: 1.3144 - accuracy: 0.5378 - val_loss: 1.6514 - val_accuracy: 0.4812\n",
            "Epoch 123/500\n",
            "313/313 [==============================] - 12s 39ms/step - loss: 1.3133 - accuracy: 0.5386 - val_loss: 1.6475 - val_accuracy: 0.4685\n",
            "Epoch 124/500\n",
            "313/313 [==============================] - 12s 39ms/step - loss: 1.3195 - accuracy: 0.5408 - val_loss: 1.6752 - val_accuracy: 0.4624\n",
            "Epoch 125/500\n",
            "313/313 [==============================] - 12s 39ms/step - loss: 1.3270 - accuracy: 0.5358 - val_loss: 1.6932 - val_accuracy: 0.4538\n",
            "Epoch 126/500\n",
            "313/313 [==============================] - 12s 39ms/step - loss: 1.3166 - accuracy: 0.5400 - val_loss: 1.5851 - val_accuracy: 0.4708\n",
            "Epoch 127/500\n",
            "313/313 [==============================] - 12s 39ms/step - loss: 1.3140 - accuracy: 0.5340 - val_loss: 1.6655 - val_accuracy: 0.4956\n",
            "Epoch 128/500\n",
            "313/313 [==============================] - 12s 39ms/step - loss: 1.3266 - accuracy: 0.5378 - val_loss: 1.6647 - val_accuracy: 0.4666\n",
            "Epoch 129/500\n",
            "313/313 [==============================] - 12s 39ms/step - loss: 1.3196 - accuracy: 0.5379 - val_loss: 1.6740 - val_accuracy: 0.4624\n",
            "Epoch 130/500\n",
            "313/313 [==============================] - 12s 39ms/step - loss: 1.3193 - accuracy: 0.5383 - val_loss: 1.6508 - val_accuracy: 0.4625\n"
          ]
        }
      ]
    },
    {
      "cell_type": "code",
      "source": [
        "#đánh giá chất lượng của mô hình và vẽ lại\n",
        "score = model.evaluate(x_test,y_test,verbose=0)\n",
        "print('Sai số kiểm tra là: ',score[0])\n",
        "print('Độ chính xác kiểm tra là: ',score[1])\n",
        "#vẽ đồ thị\n",
        "plt.plot(history.history['accuracy'])\n",
        "plt.plot(history.history['val_accuracy'])\n",
        "plt.title('model accuracy')\n",
        "plt.ylabel('accuracy')\n",
        "plt.xlabel('epochs')\n",
        "plt.legend(['train','Validation'])\n",
        "plt.show()"
      ],
      "metadata": {
        "id": "hE8FzhehVJ2N",
        "colab": {
          "base_uri": "https://localhost:8080/",
          "height": 330
        },
        "outputId": "0f5a4d30-0085-41c8-a592-d15b24600047"
      },
      "execution_count": 7,
      "outputs": [
        {
          "output_type": "stream",
          "name": "stdout",
          "text": [
            "Sai số kiểm tra là:  1.5989803075790405\n",
            "Độ chính xác kiểm tra là:  0.4544000029563904\n"
          ]
        },
        {
          "output_type": "display_data",
          "data": {
            "text/plain": [
              "<Figure size 432x288 with 1 Axes>"
            ],
            "image/png": "[encoded data removed]"
          },
          "metadata": {
            "needs_background": "light"
          }
        }
      ]
    },
    {
      "cell_type": "code",
      "source": [
        ""
      ],
      "metadata": {
        "id": "hEsIhOzNcCm2"
      },
      "execution_count": null,
      "outputs": []
    }
  ]
}