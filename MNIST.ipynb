{
  "nbformat": 4,
  "nbformat_minor": 0,
  "metadata": {
    "colab": {
      "name": "MNIST.ipynb",
      "provenance": [],
      "authorship_tag": "ABX9TyOFIpPN9NgOcns7yAWrxA5f",
      "include_colab_link": true
    },
    "kernelspec": {
      "name": "python3",
      "display_name": "Python 3"
    },
    "language_info": {
      "name": "python"
    }
  },
  "cells": [
    {
      "cell_type": "markdown",
      "metadata": {
        "id": "view-in-github",
        "colab_type": "text"
      },
      "source": [
        "<a href=\"https://colab.research.google.com/github/DinhCongNgoc/AI/blob/main/MNIST.ipynb\" target=\"_parent\"><img src=\"https://colab.research.google.com/assets/colab-badge.svg\" alt=\"Open In Colab\"/></a>"
      ]
    },
    {
      "cell_type": "code",
      "execution_count": null,
      "metadata": {
        "id": "6gOBumnhLh29"
      },
      "outputs": [],
      "source": [
        "import numpy as np #khai báo thư viện numpy là np\n",
        "from keras.utils import np_utils #gọi thư viện xử lý chuyển class\n",
        "from keras.datasets import mnist # gọi tập dataset chữ số viết tay\n",
        "from keras.models import Sequential # hàm chạy mô hình\n",
        "from keras.layers import Dense, Dropout # tạo mạng nơ ron\n",
        "from tensorflow.keras.optimizers import RMSprop \n",
        "import matplotlib.pyplot as plt  # thư viện dùng để vẽ"
      ]
    },
    {
      "cell_type": "code",
      "source": [
        "# chia tập dữ liệu thành 2 bộ train và test\n",
        "(x_train, y_train),(x_test,y_test) = mnist.load_data()"
      ],
      "metadata": {
        "colab": {
          "base_uri": "https://localhost:8080/"
        },
        "id": "VQo9phXbL7DW",
        "outputId": "e6fc611c-1d56-4b86-fe09-59cade744b3a"
      },
      "execution_count": null,
      "outputs": [
        {
          "output_type": "stream",
          "name": "stdout",
          "text": [
            "Downloading data from https://storage.googleapis.com/tensorflow/tf-keras-datasets/mnist.npz\n",
            "11493376/11490434 [==============================] - 0s 0us/step\n",
            "11501568/11490434 [==============================] - 0s 0us/step\n"
          ]
        }
      ]
    },
    {
      "cell_type": "code",
      "source": [
        "# xem kích thược của tập dữ liệu\n",
        "print('Kích thước x_train: ', x_train.shape)\n",
        "print('Kích thước y_train: ', y_train.shape)\n",
        "print('Kích thước x_test: ', x_test.shape)\n",
        "print('Kích thước y_test: ', y_test.shape)"
      ],
      "metadata": {
        "colab": {
          "base_uri": "https://localhost:8080/"
        },
        "id": "gRLXRxILMKGD",
        "outputId": "0852bf9a-9212-4e4c-8182-60fd556d8144"
      },
      "execution_count": null,
      "outputs": [
        {
          "output_type": "stream",
          "name": "stdout",
          "text": [
            "Kích thước x_train:  (60000, 28, 28)\n",
            "Kích thước y_train:  (60000,)\n",
            "Kích thước x_test:  (10000, 28, 28)\n",
            "Kích thước y_test:  (10000,)\n"
          ]
        }
      ]
    },
    {
      "cell_type": "code",
      "source": [
        "#chuyển chiều của x từ 3 chiều về 2 chiều\n",
        "x_train = x_train.reshape(60000,784)\n",
        "x_test = x_test.reshape(10000,784)\n",
        "# ép kiểu\n",
        "x_train = x_train.astype('float32')\n",
        "x_test = x_test.astype('float32')\n",
        "#chuẩn hóa dữ liệu\n",
        "x_train /=255\n",
        "x_test /=255\n",
        "#chuyển y từ 1 class thành 10 class\n",
        "y_train = np_utils.to_categorical(y_train,10)\n",
        "y_test = np_utils.to_categorical(y_test,10)"
      ],
      "metadata": {
        "id": "guykpLmAMOrw"
      },
      "execution_count": null,
      "outputs": []
    },
    {
      "cell_type": "code",
      "source": [
        "y_train.shape"
      ],
      "metadata": {
        "colab": {
          "base_uri": "https://localhost:8080/"
        },
        "id": "nX8LvNO8MTd0",
        "outputId": "663dcb0f-d82b-4b51-8aa1-fbab3be97375"
      },
      "execution_count": null,
      "outputs": [
        {
          "output_type": "execute_result",
          "data": {
            "text/plain": [
              "(60000, 10)"
            ]
          },
          "metadata": {},
          "execution_count": 5
        }
      ]
    },
    {
      "cell_type": "code",
      "source": [
        "y_test.shape"
      ],
      "metadata": {
        "colab": {
          "base_uri": "https://localhost:8080/"
        },
        "id": "ZwowdzAIMWge",
        "outputId": "e04be34b-2046-4b0a-ed62-1ff4af5559e8"
      },
      "execution_count": null,
      "outputs": [
        {
          "output_type": "execute_result",
          "data": {
            "text/plain": [
              "(10000, 10)"
            ]
          },
          "metadata": {},
          "execution_count": 6
        }
      ]
    },
    {
      "cell_type": "code",
      "source": [
        "#tạo mạng nơ-ron\n",
        "model = Sequential()\n",
        "model.add(Dense(512,activation='relu',input_shape=(784,)))\n",
        "model.add(Dropout(0.2))\n",
        "model.add(Dense(512,activation='relu'))\n",
        "model.add(Dropout(0.2))\n",
        "model.add(Dense(10,activation='softmax'))\n",
        "\n",
        "model.summary()"
      ],
      "metadata": {
        "colab": {
          "base_uri": "https://localhost:8080/"
        },
        "id": "eIEKIXnqMYY5",
        "outputId": "5e711f14-ce76-4029-e2a9-e8fb7c027e7f"
      },
      "execution_count": null,
      "outputs": [
        {
          "output_type": "stream",
          "name": "stdout",
          "text": [
            "Model: \"sequential\"\n",
            "_________________________________________________________________\n",
            " Layer (type)                Output Shape              Param #   \n",
            "=================================================================\n",
            " dense (Dense)               (None, 512)               401920    \n",
            "                                                                 \n",
            " dropout (Dropout)           (None, 512)               0         \n",
            "                                                                 \n",
            " dense_1 (Dense)             (None, 512)               262656    \n",
            "                                                                 \n",
            " dropout_1 (Dropout)         (None, 512)               0         \n",
            "                                                                 \n",
            " dense_2 (Dense)             (None, 10)                5130      \n",
            "                                                                 \n",
            "=================================================================\n",
            "Total params: 669,706\n",
            "Trainable params: 669,706\n",
            "Non-trainable params: 0\n",
            "_________________________________________________________________\n"
          ]
        }
      ]
    },
    {
      "cell_type": "code",
      "source": [
        "#chạy model với số lần học là 500 và độ kiên nhẫn là 100\n",
        "model.compile(loss='categorical_crossentropy',optimizer=RMSprop(), metrics=['accuracy'])\n",
        "model.compile(loss='categorical_crossentropy',optimizer=RMSprop(), metrics=['accuracy'])\n",
        "from keras.callbacks import EarlyStopping\n",
        "history = model.fit(x_train,y_train,batch_size=128,epochs=500,verbose=1,\n",
        "                    validation_split=0.2,callbacks=[EarlyStopping(monitor='val_loss',patience=100)])"
      ],
      "metadata": {
        "colab": {
          "base_uri": "https://localhost:8080/"
        },
        "id": "YNotXr1jMb6n",
        "outputId": "d1ca0dec-d052-4a05-ca68-9f51ee740827"
      },
      "execution_count": null,
      "outputs": [
        {
          "output_type": "stream",
          "name": "stdout",
          "text": [
            "Epoch 1/500\n",
            "375/375 [==============================] - 9s 20ms/step - loss: 0.2724 - accuracy: 0.9164 - val_loss: 0.1230 - val_accuracy: 0.9629\n",
            "Epoch 2/500\n",
            "375/375 [==============================] - 7s 20ms/step - loss: 0.1106 - accuracy: 0.9658 - val_loss: 0.1212 - val_accuracy: 0.9672\n",
            "Epoch 3/500\n",
            "375/375 [==============================] - 7s 20ms/step - loss: 0.0793 - accuracy: 0.9759 - val_loss: 0.0843 - val_accuracy: 0.9765\n",
            "Epoch 4/500\n",
            "375/375 [==============================] - 7s 20ms/step - loss: 0.0606 - accuracy: 0.9805 - val_loss: 0.0989 - val_accuracy: 0.9743\n",
            "Epoch 5/500\n",
            "375/375 [==============================] - 8s 21ms/step - loss: 0.0507 - accuracy: 0.9842 - val_loss: 0.0919 - val_accuracy: 0.9758\n",
            "Epoch 6/500\n",
            "375/375 [==============================] - 7s 20ms/step - loss: 0.0442 - accuracy: 0.9864 - val_loss: 0.0933 - val_accuracy: 0.9791\n",
            "Epoch 7/500\n",
            "375/375 [==============================] - 7s 20ms/step - loss: 0.0371 - accuracy: 0.9883 - val_loss: 0.1008 - val_accuracy: 0.9768\n",
            "Epoch 8/500\n",
            "375/375 [==============================] - 7s 20ms/step - loss: 0.0323 - accuracy: 0.9904 - val_loss: 0.1043 - val_accuracy: 0.9784\n",
            "Epoch 9/500\n",
            "375/375 [==============================] - 7s 20ms/step - loss: 0.0290 - accuracy: 0.9911 - val_loss: 0.1227 - val_accuracy: 0.9782\n",
            "Epoch 10/500\n",
            "375/375 [==============================] - 8s 22ms/step - loss: 0.0271 - accuracy: 0.9914 - val_loss: 0.1221 - val_accuracy: 0.9797\n",
            "Epoch 11/500\n",
            "375/375 [==============================] - 7s 20ms/step - loss: 0.0232 - accuracy: 0.9932 - val_loss: 0.1235 - val_accuracy: 0.9799\n",
            "Epoch 12/500\n",
            "375/375 [==============================] - 7s 20ms/step - loss: 0.0237 - accuracy: 0.9931 - val_loss: 0.1494 - val_accuracy: 0.9747\n",
            "Epoch 13/500\n",
            "375/375 [==============================] - 7s 20ms/step - loss: 0.0224 - accuracy: 0.9937 - val_loss: 0.1347 - val_accuracy: 0.9805\n",
            "Epoch 14/500\n",
            "375/375 [==============================] - 7s 20ms/step - loss: 0.0232 - accuracy: 0.9932 - val_loss: 0.1233 - val_accuracy: 0.9808\n",
            "Epoch 15/500\n",
            "375/375 [==============================] - 7s 20ms/step - loss: 0.0187 - accuracy: 0.9945 - val_loss: 0.1428 - val_accuracy: 0.9778\n",
            "Epoch 16/500\n",
            "375/375 [==============================] - 7s 20ms/step - loss: 0.0189 - accuracy: 0.9948 - val_loss: 0.1400 - val_accuracy: 0.9790\n",
            "Epoch 17/500\n",
            "375/375 [==============================] - 7s 20ms/step - loss: 0.0173 - accuracy: 0.9949 - val_loss: 0.1415 - val_accuracy: 0.9810\n",
            "Epoch 18/500\n",
            "375/375 [==============================] - 7s 20ms/step - loss: 0.0161 - accuracy: 0.9954 - val_loss: 0.1562 - val_accuracy: 0.9812\n",
            "Epoch 19/500\n",
            "375/375 [==============================] - 7s 20ms/step - loss: 0.0158 - accuracy: 0.9956 - val_loss: 0.1461 - val_accuracy: 0.9822\n",
            "Epoch 20/500\n",
            "375/375 [==============================] - 7s 20ms/step - loss: 0.0144 - accuracy: 0.9961 - val_loss: 0.1663 - val_accuracy: 0.9776\n",
            "Epoch 21/500\n",
            "375/375 [==============================] - 7s 20ms/step - loss: 0.0168 - accuracy: 0.9951 - val_loss: 0.1469 - val_accuracy: 0.9816\n",
            "Epoch 22/500\n",
            "375/375 [==============================] - 7s 20ms/step - loss: 0.0145 - accuracy: 0.9960 - val_loss: 0.1609 - val_accuracy: 0.9797\n",
            "Epoch 23/500\n",
            "375/375 [==============================] - 7s 20ms/step - loss: 0.0126 - accuracy: 0.9965 - val_loss: 0.1649 - val_accuracy: 0.9809\n",
            "Epoch 24/500\n",
            "375/375 [==============================] - 7s 20ms/step - loss: 0.0137 - accuracy: 0.9964 - val_loss: 0.1528 - val_accuracy: 0.9811\n",
            "Epoch 25/500\n",
            "375/375 [==============================] - 7s 20ms/step - loss: 0.0137 - accuracy: 0.9967 - val_loss: 0.1758 - val_accuracy: 0.9813\n",
            "Epoch 26/500\n",
            "375/375 [==============================] - 8s 20ms/step - loss: 0.0130 - accuracy: 0.9969 - val_loss: 0.1728 - val_accuracy: 0.9797\n",
            "Epoch 27/500\n",
            "375/375 [==============================] - 8s 20ms/step - loss: 0.0160 - accuracy: 0.9962 - val_loss: 0.1793 - val_accuracy: 0.9817\n",
            "Epoch 28/500\n",
            "375/375 [==============================] - 7s 20ms/step - loss: 0.0107 - accuracy: 0.9970 - val_loss: 0.1816 - val_accuracy: 0.9819\n",
            "Epoch 29/500\n",
            "375/375 [==============================] - 8s 20ms/step - loss: 0.0116 - accuracy: 0.9971 - val_loss: 0.2194 - val_accuracy: 0.9795\n",
            "Epoch 30/500\n",
            "375/375 [==============================] - 7s 20ms/step - loss: 0.0128 - accuracy: 0.9969 - val_loss: 0.1935 - val_accuracy: 0.9817\n",
            "Epoch 31/500\n",
            "375/375 [==============================] - 7s 20ms/step - loss: 0.0116 - accuracy: 0.9971 - val_loss: 0.1919 - val_accuracy: 0.9816\n",
            "Epoch 32/500\n",
            "375/375 [==============================] - 8s 20ms/step - loss: 0.0128 - accuracy: 0.9969 - val_loss: 0.1827 - val_accuracy: 0.9815\n",
            "Epoch 33/500\n",
            "375/375 [==============================] - 8s 20ms/step - loss: 0.0120 - accuracy: 0.9971 - val_loss: 0.2016 - val_accuracy: 0.9811\n",
            "Epoch 34/500\n",
            "375/375 [==============================] - 7s 20ms/step - loss: 0.0136 - accuracy: 0.9970 - val_loss: 0.2105 - val_accuracy: 0.9820\n",
            "Epoch 35/500\n",
            "375/375 [==============================] - 7s 20ms/step - loss: 0.0110 - accuracy: 0.9978 - val_loss: 0.2192 - val_accuracy: 0.9818\n",
            "Epoch 36/500\n",
            "375/375 [==============================] - 7s 20ms/step - loss: 0.0099 - accuracy: 0.9975 - val_loss: 0.1992 - val_accuracy: 0.9830\n",
            "Epoch 37/500\n",
            "375/375 [==============================] - 7s 20ms/step - loss: 0.0127 - accuracy: 0.9970 - val_loss: 0.1801 - val_accuracy: 0.9830\n",
            "Epoch 38/500\n",
            "375/375 [==============================] - 8s 20ms/step - loss: 0.0099 - accuracy: 0.9977 - val_loss: 0.2060 - val_accuracy: 0.9828\n",
            "Epoch 39/500\n",
            "375/375 [==============================] - 8s 20ms/step - loss: 0.0088 - accuracy: 0.9977 - val_loss: 0.2091 - val_accuracy: 0.9829\n",
            "Epoch 40/500\n",
            "375/375 [==============================] - 8s 20ms/step - loss: 0.0084 - accuracy: 0.9978 - val_loss: 0.2158 - val_accuracy: 0.9816\n",
            "Epoch 41/500\n",
            "375/375 [==============================] - 7s 20ms/step - loss: 0.0101 - accuracy: 0.9974 - val_loss: 0.2163 - val_accuracy: 0.9815\n",
            "Epoch 42/500\n",
            "375/375 [==============================] - 8s 20ms/step - loss: 0.0089 - accuracy: 0.9979 - val_loss: 0.2271 - val_accuracy: 0.9819\n",
            "Epoch 43/500\n",
            "375/375 [==============================] - 8s 20ms/step - loss: 0.0111 - accuracy: 0.9974 - val_loss: 0.2295 - val_accuracy: 0.9820\n",
            "Epoch 44/500\n",
            "375/375 [==============================] - 8s 20ms/step - loss: 0.0094 - accuracy: 0.9977 - val_loss: 0.2153 - val_accuracy: 0.9821\n",
            "Epoch 45/500\n",
            "375/375 [==============================] - 8s 20ms/step - loss: 0.0101 - accuracy: 0.9979 - val_loss: 0.2372 - val_accuracy: 0.9826\n",
            "Epoch 46/500\n",
            "375/375 [==============================] - 8s 20ms/step - loss: 0.0111 - accuracy: 0.9978 - val_loss: 0.2164 - val_accuracy: 0.9831\n",
            "Epoch 47/500\n",
            "375/375 [==============================] - 7s 20ms/step - loss: 0.0112 - accuracy: 0.9979 - val_loss: 0.2356 - val_accuracy: 0.9813\n",
            "Epoch 48/500\n",
            "375/375 [==============================] - 8s 20ms/step - loss: 0.0100 - accuracy: 0.9978 - val_loss: 0.2271 - val_accuracy: 0.9830\n",
            "Epoch 49/500\n",
            "375/375 [==============================] - 8s 20ms/step - loss: 0.0101 - accuracy: 0.9979 - val_loss: 0.2255 - val_accuracy: 0.9821\n",
            "Epoch 50/500\n",
            "375/375 [==============================] - 8s 20ms/step - loss: 0.0083 - accuracy: 0.9982 - val_loss: 0.2364 - val_accuracy: 0.9833\n",
            "Epoch 51/500\n",
            "375/375 [==============================] - 8s 20ms/step - loss: 0.0093 - accuracy: 0.9981 - val_loss: 0.2350 - val_accuracy: 0.9818\n",
            "Epoch 52/500\n",
            "375/375 [==============================] - 8s 21ms/step - loss: 0.0089 - accuracy: 0.9981 - val_loss: 0.2390 - val_accuracy: 0.9827\n",
            "Epoch 53/500\n",
            "375/375 [==============================] - 8s 20ms/step - loss: 0.0079 - accuracy: 0.9981 - val_loss: 0.2648 - val_accuracy: 0.9831\n",
            "Epoch 54/500\n",
            "375/375 [==============================] - 8s 21ms/step - loss: 0.0113 - accuracy: 0.9977 - val_loss: 0.2186 - val_accuracy: 0.9830\n",
            "Epoch 55/500\n",
            "375/375 [==============================] - 8s 20ms/step - loss: 0.0084 - accuracy: 0.9985 - val_loss: 0.2561 - val_accuracy: 0.9818\n",
            "Epoch 56/500\n",
            "375/375 [==============================] - 8s 20ms/step - loss: 0.0094 - accuracy: 0.9981 - val_loss: 0.2422 - val_accuracy: 0.9827\n",
            "Epoch 57/500\n",
            "375/375 [==============================] - 8s 20ms/step - loss: 0.0089 - accuracy: 0.9980 - val_loss: 0.2452 - val_accuracy: 0.9813\n",
            "Epoch 58/500\n",
            "375/375 [==============================] - 8s 20ms/step - loss: 0.0093 - accuracy: 0.9979 - val_loss: 0.2403 - val_accuracy: 0.9826\n",
            "Epoch 59/500\n",
            "375/375 [==============================] - 8s 20ms/step - loss: 0.0075 - accuracy: 0.9981 - val_loss: 0.2731 - val_accuracy: 0.9814\n",
            "Epoch 60/500\n",
            "375/375 [==============================] - 8s 20ms/step - loss: 0.0101 - accuracy: 0.9981 - val_loss: 0.2655 - val_accuracy: 0.9836\n",
            "Epoch 61/500\n",
            "375/375 [==============================] - 8s 20ms/step - loss: 0.0080 - accuracy: 0.9984 - val_loss: 0.2539 - val_accuracy: 0.9842\n",
            "Epoch 62/500\n",
            "375/375 [==============================] - 8s 20ms/step - loss: 0.0088 - accuracy: 0.9981 - val_loss: 0.2621 - val_accuracy: 0.9797\n",
            "Epoch 63/500\n",
            "375/375 [==============================] - 8s 20ms/step - loss: 0.0101 - accuracy: 0.9981 - val_loss: 0.2442 - val_accuracy: 0.9827\n",
            "Epoch 64/500\n",
            "375/375 [==============================] - 8s 20ms/step - loss: 0.0064 - accuracy: 0.9988 - val_loss: 0.2833 - val_accuracy: 0.9812\n",
            "Epoch 65/500\n",
            "375/375 [==============================] - 8s 20ms/step - loss: 0.0066 - accuracy: 0.9986 - val_loss: 0.2713 - val_accuracy: 0.9832\n",
            "Epoch 66/500\n",
            "375/375 [==============================] - 8s 20ms/step - loss: 0.0099 - accuracy: 0.9982 - val_loss: 0.2729 - val_accuracy: 0.9824\n",
            "Epoch 67/500\n",
            "375/375 [==============================] - 8s 20ms/step - loss: 0.0097 - accuracy: 0.9984 - val_loss: 0.2812 - val_accuracy: 0.9825\n",
            "Epoch 68/500\n",
            "375/375 [==============================] - 8s 20ms/step - loss: 0.0085 - accuracy: 0.9982 - val_loss: 0.2730 - val_accuracy: 0.9834\n",
            "Epoch 69/500\n",
            "375/375 [==============================] - 8s 20ms/step - loss: 0.0089 - accuracy: 0.9982 - val_loss: 0.2530 - val_accuracy: 0.9842\n",
            "Epoch 70/500\n",
            "375/375 [==============================] - 8s 21ms/step - loss: 0.0065 - accuracy: 0.9984 - val_loss: 0.2716 - val_accuracy: 0.9831\n",
            "Epoch 71/500\n",
            "375/375 [==============================] - 8s 20ms/step - loss: 0.0099 - accuracy: 0.9983 - val_loss: 0.2586 - val_accuracy: 0.9829\n",
            "Epoch 72/500\n",
            "375/375 [==============================] - 8s 21ms/step - loss: 0.0071 - accuracy: 0.9986 - val_loss: 0.3000 - val_accuracy: 0.9822\n",
            "Epoch 73/500\n",
            "375/375 [==============================] - 8s 21ms/step - loss: 0.0086 - accuracy: 0.9983 - val_loss: 0.3087 - val_accuracy: 0.9822\n",
            "Epoch 74/500\n",
            "375/375 [==============================] - 8s 21ms/step - loss: 0.0087 - accuracy: 0.9985 - val_loss: 0.2872 - val_accuracy: 0.9814\n",
            "Epoch 75/500\n",
            "375/375 [==============================] - 8s 21ms/step - loss: 0.0097 - accuracy: 0.9985 - val_loss: 0.2971 - val_accuracy: 0.9817\n",
            "Epoch 76/500\n",
            "375/375 [==============================] - 8s 21ms/step - loss: 0.0070 - accuracy: 0.9988 - val_loss: 0.3300 - val_accuracy: 0.9819\n",
            "Epoch 77/500\n",
            "375/375 [==============================] - 8s 20ms/step - loss: 0.0074 - accuracy: 0.9986 - val_loss: 0.2995 - val_accuracy: 0.9836\n",
            "Epoch 78/500\n",
            "375/375 [==============================] - 8s 20ms/step - loss: 0.0080 - accuracy: 0.9985 - val_loss: 0.2813 - val_accuracy: 0.9831\n",
            "Epoch 79/500\n",
            "375/375 [==============================] - 8s 20ms/step - loss: 0.0057 - accuracy: 0.9988 - val_loss: 0.2978 - val_accuracy: 0.9816\n",
            "Epoch 80/500\n",
            "375/375 [==============================] - 8s 20ms/step - loss: 0.0063 - accuracy: 0.9988 - val_loss: 0.2900 - val_accuracy: 0.9847\n",
            "Epoch 81/500\n",
            "375/375 [==============================] - 8s 20ms/step - loss: 0.0100 - accuracy: 0.9986 - val_loss: 0.2875 - val_accuracy: 0.9829\n",
            "Epoch 82/500\n",
            "375/375 [==============================] - 8s 20ms/step - loss: 0.0088 - accuracy: 0.9982 - val_loss: 0.2829 - val_accuracy: 0.9837\n",
            "Epoch 83/500\n",
            "375/375 [==============================] - 8s 20ms/step - loss: 0.0092 - accuracy: 0.9986 - val_loss: 0.3233 - val_accuracy: 0.9833\n",
            "Epoch 84/500\n",
            "375/375 [==============================] - 8s 20ms/step - loss: 0.0083 - accuracy: 0.9983 - val_loss: 0.3023 - val_accuracy: 0.9830\n",
            "Epoch 85/500\n",
            "375/375 [==============================] - 8s 20ms/step - loss: 0.0080 - accuracy: 0.9986 - val_loss: 0.2936 - val_accuracy: 0.9827\n",
            "Epoch 86/500\n",
            "375/375 [==============================] - 8s 20ms/step - loss: 0.0102 - accuracy: 0.9984 - val_loss: 0.2864 - val_accuracy: 0.9820\n",
            "Epoch 87/500\n",
            "375/375 [==============================] - 8s 20ms/step - loss: 0.0067 - accuracy: 0.9987 - val_loss: 0.2691 - val_accuracy: 0.9831\n",
            "Epoch 88/500\n",
            "375/375 [==============================] - 8s 20ms/step - loss: 0.0077 - accuracy: 0.9986 - val_loss: 0.2922 - val_accuracy: 0.9829\n",
            "Epoch 89/500\n",
            "375/375 [==============================] - 8s 20ms/step - loss: 0.0068 - accuracy: 0.9987 - val_loss: 0.2857 - val_accuracy: 0.9837\n",
            "Epoch 90/500\n",
            "375/375 [==============================] - 8s 21ms/step - loss: 0.0077 - accuracy: 0.9988 - val_loss: 0.2918 - val_accuracy: 0.9828\n",
            "Epoch 91/500\n",
            "375/375 [==============================] - 8s 20ms/step - loss: 0.0074 - accuracy: 0.9986 - val_loss: 0.3116 - val_accuracy: 0.9822\n",
            "Epoch 92/500\n",
            "375/375 [==============================] - 8s 20ms/step - loss: 0.0074 - accuracy: 0.9986 - val_loss: 0.3183 - val_accuracy: 0.9833\n",
            "Epoch 93/500\n",
            "375/375 [==============================] - 8s 20ms/step - loss: 0.0096 - accuracy: 0.9985 - val_loss: 0.2936 - val_accuracy: 0.9837\n",
            "Epoch 94/500\n",
            "375/375 [==============================] - 8s 20ms/step - loss: 0.0072 - accuracy: 0.9989 - val_loss: 0.2879 - val_accuracy: 0.9839\n",
            "Epoch 95/500\n",
            "375/375 [==============================] - 8s 21ms/step - loss: 0.0070 - accuracy: 0.9986 - val_loss: 0.2977 - val_accuracy: 0.9827\n",
            "Epoch 96/500\n",
            "375/375 [==============================] - 8s 20ms/step - loss: 0.0058 - accuracy: 0.9988 - val_loss: 0.3316 - val_accuracy: 0.9820\n",
            "Epoch 97/500\n",
            "375/375 [==============================] - 8s 20ms/step - loss: 0.0060 - accuracy: 0.9990 - val_loss: 0.3179 - val_accuracy: 0.9820\n",
            "Epoch 98/500\n",
            "375/375 [==============================] - 8s 20ms/step - loss: 0.0071 - accuracy: 0.9988 - val_loss: 0.3234 - val_accuracy: 0.9819\n",
            "Epoch 99/500\n",
            "375/375 [==============================] - 8s 20ms/step - loss: 0.0079 - accuracy: 0.9988 - val_loss: 0.3023 - val_accuracy: 0.9845\n",
            "Epoch 100/500\n",
            "375/375 [==============================] - 8s 21ms/step - loss: 0.0103 - accuracy: 0.9983 - val_loss: 0.3238 - val_accuracy: 0.9830\n",
            "Epoch 101/500\n",
            "375/375 [==============================] - 8s 20ms/step - loss: 0.0078 - accuracy: 0.9988 - val_loss: 0.3286 - val_accuracy: 0.9827\n",
            "Epoch 102/500\n",
            "375/375 [==============================] - 8s 20ms/step - loss: 0.0058 - accuracy: 0.9987 - val_loss: 0.3573 - val_accuracy: 0.9821\n",
            "Epoch 103/500\n",
            "375/375 [==============================] - 8s 20ms/step - loss: 0.0080 - accuracy: 0.9986 - val_loss: 0.3212 - val_accuracy: 0.9830\n"
          ]
        }
      ]
    },
    {
      "cell_type": "code",
      "source": [
        "#đánh giá chất lượng của mô hình và vẽ lại\n",
        "score = model.evaluate(x_test,y_test,verbose=0)\n",
        "print('Sai số kiểm tra là: ',score[0])\n",
        "print('Độ chính xác kiểm tra là: ',score[1])\n",
        "#vẽ đồ thị\n",
        "plt.plot(history.history['accuracy'])\n",
        "plt.plot(history.history['val_accuracy'])\n",
        "plt.title('model accuracy')\n",
        "plt.ylabel('accuracy')\n",
        "plt.xlabel('epochs')\n",
        "plt.legend(['train','Validation'])\n",
        "plt.show()"
      ],
      "metadata": {
        "colab": {
          "base_uri": "https://localhost:8080/",
          "height": 330
        },
        "id": "JN6zR1MHMfwn",
        "outputId": "03369185-3118-4976-c16e-a57986adda35"
      },
      "execution_count": null,
      "outputs": [
        {
          "output_type": "stream",
          "name": "stdout",
          "text": [
            "Sai số kiểm tra là:  0.28510579466819763\n",
            "Độ chính xác kiểm tra là:  0.9842000007629395\n"
          ]
        },
        {
          "output_type": "display_data",
          "data": {
            "text/plain": [
              "<Figure size 432x288 with 1 Axes>"
            ],
            "image/png": "[encoded data removed]"
          },
          "metadata": {
            "needs_background": "light"
          }
        }
      ]
    },
    {
      "cell_type": "code",
      "source": [
        ""
      ],
      "metadata": {
        "id": "E8dr3UaPPk9H"
      },
      "execution_count": null,
      "outputs": []
    }
  ]
}