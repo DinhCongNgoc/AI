{
  "nbformat": 4,
  "nbformat_minor": 0,
  "metadata": {
    "colab": {
      "name": "FASHION_MNIST.ipynb",
      "provenance": [],
      "authorship_tag": "ABX9TyOzLzUqNjoHPnOXbIIi10Jq",
      "include_colab_link": true
    },
    "kernelspec": {
      "name": "python3",
      "display_name": "Python 3"
    },
    "language_info": {
      "name": "python"
    }
  },
  "cells": [
    {
      "cell_type": "markdown",
      "metadata": {
        "id": "view-in-github",
        "colab_type": "text"
      },
      "source": [
        "<a href=\"https://colab.research.google.com/github/DinhCongNgoc/AI/blob/main/FASHION_MNIST.ipynb\" target=\"_parent\"><img src=\"https://colab.research.google.com/assets/colab-badge.svg\" alt=\"Open In Colab\"/></a>"
      ]
    },
    {
      "cell_type": "code",
      "execution_count": null,
      "metadata": {
        "id": "ieHhsMo2QBoR"
      },
      "outputs": [],
      "source": [
        "import numpy as np # Khai báo thư viện numpy là np \n",
        "from keras.utils import np_utils # thư viện xử lý chuyển class\n",
        "from keras.datasets import fashion_mnist # gọi tập dataset thời trang\n",
        "from keras.models import Sequential # hàm chạy mô hình\n",
        "from keras.layers import Dense, Dropout # tạo mạng nơ ron\n",
        "from tensorflow.keras.optimizers import RMSprop \n",
        "import matplotlib.pyplot as plt  # thư viện dùng để vẽ"
      ]
    },
    {
      "cell_type": "code",
      "source": [
        "# chia tập dữ liệu thành 2 bộ train và test\n",
        "(x_train, y_train),(x_test,y_test) = fashion_mnist.load_data()"
      ],
      "metadata": {
        "colab": {
          "base_uri": "https://localhost:8080/"
        },
        "id": "c2xkyvoIQqMZ",
        "outputId": "04efd873-bbce-460d-98ce-8e41d7621ce4"
      },
      "execution_count": null,
      "outputs": [
        {
          "output_type": "stream",
          "name": "stdout",
          "text": [
            "Downloading data from https://storage.googleapis.com/tensorflow/tf-keras-datasets/train-labels-idx1-ubyte.gz\n",
            "32768/29515 [=================================] - 0s 0us/step\n",
            "40960/29515 [=========================================] - 0s 0us/step\n",
            "Downloading data from https://storage.googleapis.com/tensorflow/tf-keras-datasets/train-images-idx3-ubyte.gz\n",
            "26427392/26421880 [==============================] - 0s 0us/step\n",
            "26435584/26421880 [==============================] - 0s 0us/step\n",
            "Downloading data from https://storage.googleapis.com/tensorflow/tf-keras-datasets/t10k-labels-idx1-ubyte.gz\n",
            "16384/5148 [===============================================================================================] - 0s 0us/step\n",
            "Downloading data from https://storage.googleapis.com/tensorflow/tf-keras-datasets/t10k-images-idx3-ubyte.gz\n",
            "4423680/4422102 [==============================] - 0s 0us/step\n",
            "4431872/4422102 [==============================] - 0s 0us/step\n"
          ]
        }
      ]
    },
    {
      "cell_type": "code",
      "source": [
        "# xem kích thược của tập dữ liệu\n",
        "print('Kích thước x_train: ', x_train.shape)\n",
        "print('Kích thước y_train: ', y_train.shape)\n",
        "print('Kích thước x_test: ', x_test.shape)\n",
        "print('Kích thước y_test: ', y_test.shape)"
      ],
      "metadata": {
        "colab": {
          "base_uri": "https://localhost:8080/"
        },
        "id": "_MkahSEOQv49",
        "outputId": "5105a861-f677-4020-af19-1d033a11e68c"
      },
      "execution_count": null,
      "outputs": [
        {
          "output_type": "stream",
          "name": "stdout",
          "text": [
            "Kích thước x_train:  (60000, 28, 28)\n",
            "Kích thước y_train:  (60000,)\n",
            "Kích thước x_test:  (10000, 28, 28)\n",
            "Kích thước y_test:  (10000,)\n"
          ]
        }
      ]
    },
    {
      "cell_type": "code",
      "source": [
        "#chuyển chiều của x từ 3 chiều về 2 chiều\n",
        "x_train = x_train.reshape(60000,784)\n",
        "x_test = x_test.reshape(10000,784)\n",
        "# ép kiểu\n",
        "x_train = x_train.astype('float32')\n",
        "x_test = x_test.astype('float32')\n",
        "#chuẩn hóa dữ liệu\n",
        "x_train /=255\n",
        "x_test /=255\n",
        "#chuyển y từ 1 class thành 10 class\n",
        "y_train = np_utils.to_categorical(y_train,10)\n",
        "y_test = np_utils.to_categorical(y_test,10)"
      ],
      "metadata": {
        "id": "TKweWavUQyYp"
      },
      "execution_count": null,
      "outputs": []
    },
    {
      "cell_type": "code",
      "source": [
        "#tạo mạng nơ-ron\n",
        "model = Sequential()\n",
        "model.add(Dense(512,activation='relu',input_shape=(784,)))\n",
        "model.add(Dropout(0.2))\n",
        "model.add(Dense(512,activation='relu'))\n",
        "model.add(Dropout(0.2))\n",
        "model.add(Dense(10,activation='softmax'))\n",
        "model.summary()"
      ],
      "metadata": {
        "colab": {
          "base_uri": "https://localhost:8080/"
        },
        "id": "oopaOQBUQ2B_",
        "outputId": "c348915a-fabc-4a44-9626-8e140f912b69"
      },
      "execution_count": null,
      "outputs": [
        {
          "output_type": "stream",
          "name": "stdout",
          "text": [
            "Model: \"sequential\"\n",
            "_________________________________________________________________\n",
            " Layer (type)                Output Shape              Param #   \n",
            "=================================================================\n",
            " dense (Dense)               (None, 512)               401920    \n",
            "                                                                 \n",
            " dropout (Dropout)           (None, 512)               0         \n",
            "                                                                 \n",
            " dense_1 (Dense)             (None, 512)               262656    \n",
            "                                                                 \n",
            " dropout_1 (Dropout)         (None, 512)               0         \n",
            "                                                                 \n",
            " dense_2 (Dense)             (None, 10)                5130      \n",
            "                                                                 \n",
            "=================================================================\n",
            "Total params: 669,706\n",
            "Trainable params: 669,706\n",
            "Non-trainable params: 0\n",
            "_________________________________________________________________\n"
          ]
        }
      ]
    },
    {
      "cell_type": "code",
      "source": [
        "#chạy model với số lần học là 500 và độ kiên nhẫn là 100\n",
        "model.compile(loss='categorical_crossentropy',optimizer=RMSprop(), metrics=['accuracy'])\n",
        "model.compile(loss='categorical_crossentropy',optimizer=RMSprop(), metrics=['accuracy'])\n",
        "from keras.callbacks import EarlyStopping\n",
        "history = model.fit(x_train,y_train,batch_size=128,epochs=500,verbose=1,\n",
        "                    validation_split=0.2,callbacks=[EarlyStopping(monitor='val_loss',patience=100)])"
      ],
      "metadata": {
        "colab": {
          "base_uri": "https://localhost:8080/"
        },
        "id": "o0guLx-1Q4s7",
        "outputId": "1b3d0658-dec9-4ae5-888d-5bf335602070"
      },
      "execution_count": null,
      "outputs": [
        {
          "output_type": "stream",
          "name": "stdout",
          "text": [
            "Epoch 1/500\n",
            "375/375 [==============================] - 7s 16ms/step - loss: 0.5921 - accuracy: 0.7832 - val_loss: 0.5249 - val_accuracy: 0.8053\n",
            "Epoch 2/500\n",
            "375/375 [==============================] - 6s 15ms/step - loss: 0.4173 - accuracy: 0.8471 - val_loss: 0.3722 - val_accuracy: 0.8643\n",
            "Epoch 3/500\n",
            "375/375 [==============================] - 6s 15ms/step - loss: 0.3737 - accuracy: 0.8631 - val_loss: 0.3580 - val_accuracy: 0.8701\n",
            "Epoch 4/500\n",
            "375/375 [==============================] - 6s 15ms/step - loss: 0.3540 - accuracy: 0.8702 - val_loss: 0.3502 - val_accuracy: 0.8740\n",
            "Epoch 5/500\n",
            "375/375 [==============================] - 6s 16ms/step - loss: 0.3399 - accuracy: 0.8752 - val_loss: 0.3624 - val_accuracy: 0.8776\n",
            "Epoch 6/500\n",
            "375/375 [==============================] - 6s 15ms/step - loss: 0.3301 - accuracy: 0.8809 - val_loss: 0.3348 - val_accuracy: 0.8800\n",
            "Epoch 7/500\n",
            "375/375 [==============================] - 6s 17ms/step - loss: 0.3181 - accuracy: 0.8850 - val_loss: 0.3575 - val_accuracy: 0.8748\n",
            "Epoch 8/500\n",
            "375/375 [==============================] - 5s 14ms/step - loss: 0.3109 - accuracy: 0.8876 - val_loss: 0.3336 - val_accuracy: 0.8865\n",
            "Epoch 9/500\n",
            "375/375 [==============================] - 6s 15ms/step - loss: 0.3051 - accuracy: 0.8886 - val_loss: 0.3558 - val_accuracy: 0.8848\n",
            "Epoch 10/500\n",
            "375/375 [==============================] - 6s 15ms/step - loss: 0.3007 - accuracy: 0.8908 - val_loss: 0.3562 - val_accuracy: 0.8852\n",
            "Epoch 11/500\n",
            "375/375 [==============================] - 5s 15ms/step - loss: 0.2980 - accuracy: 0.8932 - val_loss: 0.3562 - val_accuracy: 0.8848\n",
            "Epoch 12/500\n",
            "375/375 [==============================] - 6s 15ms/step - loss: 0.2904 - accuracy: 0.8955 - val_loss: 0.3606 - val_accuracy: 0.8888\n",
            "Epoch 13/500\n",
            "375/375 [==============================] - 6s 15ms/step - loss: 0.2869 - accuracy: 0.8965 - val_loss: 0.3434 - val_accuracy: 0.8882\n",
            "Epoch 14/500\n",
            "375/375 [==============================] - 6s 15ms/step - loss: 0.2783 - accuracy: 0.9000 - val_loss: 0.3568 - val_accuracy: 0.8881\n",
            "Epoch 15/500\n",
            "375/375 [==============================] - 6s 15ms/step - loss: 0.2822 - accuracy: 0.8998 - val_loss: 0.3629 - val_accuracy: 0.8920\n",
            "Epoch 16/500\n",
            "375/375 [==============================] - 6s 15ms/step - loss: 0.2742 - accuracy: 0.9029 - val_loss: 0.3903 - val_accuracy: 0.8848\n",
            "Epoch 17/500\n",
            "375/375 [==============================] - 6s 15ms/step - loss: 0.2667 - accuracy: 0.9034 - val_loss: 0.4035 - val_accuracy: 0.8878\n",
            "Epoch 18/500\n",
            "375/375 [==============================] - 6s 15ms/step - loss: 0.2687 - accuracy: 0.9046 - val_loss: 0.3780 - val_accuracy: 0.8854\n",
            "Epoch 19/500\n",
            "375/375 [==============================] - 6s 15ms/step - loss: 0.2652 - accuracy: 0.9055 - val_loss: 0.3661 - val_accuracy: 0.8915\n",
            "Epoch 20/500\n",
            "375/375 [==============================] - 6s 15ms/step - loss: 0.2604 - accuracy: 0.9074 - val_loss: 0.4266 - val_accuracy: 0.8827\n",
            "Epoch 21/500\n",
            "375/375 [==============================] - 5s 15ms/step - loss: 0.2583 - accuracy: 0.9078 - val_loss: 0.4022 - val_accuracy: 0.8847\n",
            "Epoch 22/500\n",
            "375/375 [==============================] - 6s 15ms/step - loss: 0.2578 - accuracy: 0.9079 - val_loss: 0.4062 - val_accuracy: 0.8887\n",
            "Epoch 23/500\n",
            "375/375 [==============================] - 6s 16ms/step - loss: 0.2571 - accuracy: 0.9114 - val_loss: 0.4052 - val_accuracy: 0.8921\n",
            "Epoch 24/500\n",
            "375/375 [==============================] - 6s 15ms/step - loss: 0.2516 - accuracy: 0.9108 - val_loss: 0.4107 - val_accuracy: 0.8936\n",
            "Epoch 25/500\n",
            "375/375 [==============================] - 6s 15ms/step - loss: 0.2473 - accuracy: 0.9114 - val_loss: 0.4102 - val_accuracy: 0.8925\n",
            "Epoch 26/500\n",
            "375/375 [==============================] - 6s 15ms/step - loss: 0.2486 - accuracy: 0.9130 - val_loss: 0.4283 - val_accuracy: 0.8952\n",
            "Epoch 27/500\n",
            "375/375 [==============================] - 6s 15ms/step - loss: 0.2425 - accuracy: 0.9124 - val_loss: 0.4350 - val_accuracy: 0.8884\n",
            "Epoch 28/500\n",
            "375/375 [==============================] - 6s 15ms/step - loss: 0.2464 - accuracy: 0.9138 - val_loss: 0.4170 - val_accuracy: 0.8938\n",
            "Epoch 29/500\n",
            "375/375 [==============================] - 6s 15ms/step - loss: 0.2426 - accuracy: 0.9146 - val_loss: 0.5030 - val_accuracy: 0.8860\n",
            "Epoch 30/500\n",
            "375/375 [==============================] - 6s 15ms/step - loss: 0.2403 - accuracy: 0.9143 - val_loss: 0.4330 - val_accuracy: 0.8910\n",
            "Epoch 31/500\n",
            "375/375 [==============================] - 6s 15ms/step - loss: 0.2368 - accuracy: 0.9154 - val_loss: 0.4545 - val_accuracy: 0.8925\n",
            "Epoch 32/500\n",
            "375/375 [==============================] - 6s 15ms/step - loss: 0.2370 - accuracy: 0.9178 - val_loss: 0.4740 - val_accuracy: 0.8918\n",
            "Epoch 33/500\n",
            "375/375 [==============================] - 6s 16ms/step - loss: 0.2384 - accuracy: 0.9176 - val_loss: 0.4869 - val_accuracy: 0.8893\n",
            "Epoch 34/500\n",
            "375/375 [==============================] - 6s 15ms/step - loss: 0.2338 - accuracy: 0.9197 - val_loss: 0.5019 - val_accuracy: 0.8988\n",
            "Epoch 35/500\n",
            "375/375 [==============================] - 6s 15ms/step - loss: 0.2322 - accuracy: 0.9195 - val_loss: 0.4740 - val_accuracy: 0.8895\n",
            "Epoch 36/500\n",
            "375/375 [==============================] - 6s 15ms/step - loss: 0.2287 - accuracy: 0.9199 - val_loss: 0.5361 - val_accuracy: 0.8900\n",
            "Epoch 37/500\n",
            "375/375 [==============================] - 6s 15ms/step - loss: 0.2296 - accuracy: 0.9188 - val_loss: 0.4974 - val_accuracy: 0.8903\n",
            "Epoch 38/500\n",
            "375/375 [==============================] - 6s 15ms/step - loss: 0.2286 - accuracy: 0.9212 - val_loss: 0.5146 - val_accuracy: 0.8975\n",
            "Epoch 39/500\n",
            "375/375 [==============================] - 6s 15ms/step - loss: 0.2250 - accuracy: 0.9209 - val_loss: 0.4647 - val_accuracy: 0.8978\n",
            "Epoch 40/500\n",
            "375/375 [==============================] - 6s 15ms/step - loss: 0.2236 - accuracy: 0.9242 - val_loss: 0.5534 - val_accuracy: 0.8893\n",
            "Epoch 41/500\n",
            "375/375 [==============================] - 6s 15ms/step - loss: 0.2250 - accuracy: 0.9227 - val_loss: 0.5725 - val_accuracy: 0.8913\n",
            "Epoch 42/500\n",
            "375/375 [==============================] - 6s 15ms/step - loss: 0.2289 - accuracy: 0.9227 - val_loss: 0.4847 - val_accuracy: 0.8928\n",
            "Epoch 43/500\n",
            "375/375 [==============================] - 5s 15ms/step - loss: 0.2189 - accuracy: 0.9246 - val_loss: 0.5149 - val_accuracy: 0.8940\n",
            "Epoch 44/500\n",
            "375/375 [==============================] - 6s 15ms/step - loss: 0.2204 - accuracy: 0.9243 - val_loss: 0.5890 - val_accuracy: 0.8921\n",
            "Epoch 45/500\n",
            "375/375 [==============================] - 5s 14ms/step - loss: 0.2193 - accuracy: 0.9248 - val_loss: 0.5430 - val_accuracy: 0.8945\n",
            "Epoch 46/500\n",
            "375/375 [==============================] - 5s 15ms/step - loss: 0.2226 - accuracy: 0.9259 - val_loss: 0.5685 - val_accuracy: 0.8936\n",
            "Epoch 47/500\n",
            "375/375 [==============================] - 6s 15ms/step - loss: 0.2122 - accuracy: 0.9280 - val_loss: 0.6084 - val_accuracy: 0.8927\n",
            "Epoch 48/500\n",
            "375/375 [==============================] - 5s 15ms/step - loss: 0.2115 - accuracy: 0.9271 - val_loss: 0.5334 - val_accuracy: 0.8932\n",
            "Epoch 49/500\n",
            "375/375 [==============================] - 5s 15ms/step - loss: 0.2179 - accuracy: 0.9264 - val_loss: 0.6202 - val_accuracy: 0.8960\n",
            "Epoch 50/500\n",
            "375/375 [==============================] - 6s 15ms/step - loss: 0.2126 - accuracy: 0.9286 - val_loss: 0.5439 - val_accuracy: 0.8947\n",
            "Epoch 51/500\n",
            "375/375 [==============================] - 6s 15ms/step - loss: 0.2121 - accuracy: 0.9289 - val_loss: 0.6036 - val_accuracy: 0.8954\n",
            "Epoch 52/500\n",
            "375/375 [==============================] - 6s 15ms/step - loss: 0.2159 - accuracy: 0.9294 - val_loss: 0.6067 - val_accuracy: 0.8930\n",
            "Epoch 53/500\n",
            "375/375 [==============================] - 6s 15ms/step - loss: 0.2100 - accuracy: 0.9285 - val_loss: 0.5668 - val_accuracy: 0.8923\n",
            "Epoch 54/500\n",
            "375/375 [==============================] - 6s 15ms/step - loss: 0.2031 - accuracy: 0.9299 - val_loss: 0.6762 - val_accuracy: 0.8963\n",
            "Epoch 55/500\n",
            "375/375 [==============================] - 6s 15ms/step - loss: 0.2059 - accuracy: 0.9306 - val_loss: 0.5946 - val_accuracy: 0.8947\n",
            "Epoch 56/500\n",
            "375/375 [==============================] - 5s 15ms/step - loss: 0.1977 - accuracy: 0.9307 - val_loss: 0.6564 - val_accuracy: 0.8904\n",
            "Epoch 57/500\n",
            "375/375 [==============================] - 6s 15ms/step - loss: 0.2037 - accuracy: 0.9323 - val_loss: 0.6284 - val_accuracy: 0.8908\n",
            "Epoch 58/500\n",
            "375/375 [==============================] - 6s 15ms/step - loss: 0.2043 - accuracy: 0.9312 - val_loss: 0.7380 - val_accuracy: 0.8942\n",
            "Epoch 59/500\n",
            "375/375 [==============================] - 6s 15ms/step - loss: 0.2174 - accuracy: 0.9306 - val_loss: 0.6612 - val_accuracy: 0.8932\n",
            "Epoch 60/500\n",
            "375/375 [==============================] - 6s 15ms/step - loss: 0.2060 - accuracy: 0.9305 - val_loss: 0.6460 - val_accuracy: 0.8922\n",
            "Epoch 61/500\n",
            "375/375 [==============================] - 5s 15ms/step - loss: 0.2034 - accuracy: 0.9315 - val_loss: 0.6586 - val_accuracy: 0.8898\n",
            "Epoch 62/500\n",
            "375/375 [==============================] - 5s 14ms/step - loss: 0.2013 - accuracy: 0.9322 - val_loss: 0.7028 - val_accuracy: 0.8872\n",
            "Epoch 63/500\n",
            "375/375 [==============================] - 5s 15ms/step - loss: 0.2043 - accuracy: 0.9335 - val_loss: 0.7207 - val_accuracy: 0.8952\n",
            "Epoch 64/500\n",
            "375/375 [==============================] - 5s 14ms/step - loss: 0.2038 - accuracy: 0.9331 - val_loss: 0.6798 - val_accuracy: 0.8898\n",
            "Epoch 65/500\n",
            "375/375 [==============================] - 6s 15ms/step - loss: 0.2043 - accuracy: 0.9337 - val_loss: 0.7046 - val_accuracy: 0.8970\n",
            "Epoch 66/500\n",
            "375/375 [==============================] - 5s 14ms/step - loss: 0.2014 - accuracy: 0.9338 - val_loss: 0.6832 - val_accuracy: 0.8971\n",
            "Epoch 67/500\n",
            "375/375 [==============================] - 5s 14ms/step - loss: 0.1990 - accuracy: 0.9353 - val_loss: 0.7125 - val_accuracy: 0.8949\n",
            "Epoch 68/500\n",
            "375/375 [==============================] - 5s 14ms/step - loss: 0.2053 - accuracy: 0.9335 - val_loss: 0.6479 - val_accuracy: 0.8985\n",
            "Epoch 69/500\n",
            "375/375 [==============================] - 5s 15ms/step - loss: 0.1951 - accuracy: 0.9348 - val_loss: 0.7087 - val_accuracy: 0.8981\n",
            "Epoch 70/500\n",
            "375/375 [==============================] - 6s 15ms/step - loss: 0.1955 - accuracy: 0.9362 - val_loss: 0.7294 - val_accuracy: 0.8942\n",
            "Epoch 71/500\n",
            "375/375 [==============================] - 5s 15ms/step - loss: 0.2036 - accuracy: 0.9361 - val_loss: 0.6868 - val_accuracy: 0.8961\n",
            "Epoch 72/500\n",
            "375/375 [==============================] - 6s 15ms/step - loss: 0.2001 - accuracy: 0.9346 - val_loss: 0.7929 - val_accuracy: 0.8966\n",
            "Epoch 73/500\n",
            "375/375 [==============================] - 6s 15ms/step - loss: 0.1987 - accuracy: 0.9362 - val_loss: 0.8340 - val_accuracy: 0.8926\n",
            "Epoch 74/500\n",
            "375/375 [==============================] - 5s 14ms/step - loss: 0.1920 - accuracy: 0.9365 - val_loss: 0.6881 - val_accuracy: 0.8959\n",
            "Epoch 75/500\n",
            "375/375 [==============================] - 5s 15ms/step - loss: 0.1857 - accuracy: 0.9368 - val_loss: 0.7624 - val_accuracy: 0.8919\n",
            "Epoch 76/500\n",
            "375/375 [==============================] - 5s 15ms/step - loss: 0.1918 - accuracy: 0.9381 - val_loss: 0.7695 - val_accuracy: 0.8926\n",
            "Epoch 77/500\n",
            "375/375 [==============================] - 6s 15ms/step - loss: 0.1837 - accuracy: 0.9384 - val_loss: 0.7861 - val_accuracy: 0.8965\n",
            "Epoch 78/500\n",
            "375/375 [==============================] - 5s 14ms/step - loss: 0.1887 - accuracy: 0.9380 - val_loss: 0.7787 - val_accuracy: 0.8883\n",
            "Epoch 79/500\n",
            "375/375 [==============================] - 5s 14ms/step - loss: 0.1843 - accuracy: 0.9390 - val_loss: 0.8405 - val_accuracy: 0.8972\n",
            "Epoch 80/500\n",
            "375/375 [==============================] - 6s 15ms/step - loss: 0.1826 - accuracy: 0.9388 - val_loss: 0.8280 - val_accuracy: 0.8979\n",
            "Epoch 81/500\n",
            "375/375 [==============================] - 5s 14ms/step - loss: 0.1810 - accuracy: 0.9416 - val_loss: 0.8194 - val_accuracy: 0.8977\n",
            "Epoch 82/500\n",
            "375/375 [==============================] - 5s 15ms/step - loss: 0.1918 - accuracy: 0.9385 - val_loss: 0.8071 - val_accuracy: 0.8942\n",
            "Epoch 83/500\n",
            "375/375 [==============================] - 5s 15ms/step - loss: 0.1867 - accuracy: 0.9401 - val_loss: 0.8846 - val_accuracy: 0.8965\n",
            "Epoch 84/500\n",
            "375/375 [==============================] - 5s 15ms/step - loss: 0.1869 - accuracy: 0.9393 - val_loss: 0.8730 - val_accuracy: 0.8872\n",
            "Epoch 85/500\n",
            "375/375 [==============================] - 5s 14ms/step - loss: 0.1926 - accuracy: 0.9393 - val_loss: 0.8305 - val_accuracy: 0.8987\n",
            "Epoch 86/500\n",
            "375/375 [==============================] - 5s 15ms/step - loss: 0.1908 - accuracy: 0.9377 - val_loss: 0.8507 - val_accuracy: 0.8938\n",
            "Epoch 87/500\n",
            "375/375 [==============================] - 5s 15ms/step - loss: 0.1858 - accuracy: 0.9397 - val_loss: 0.8133 - val_accuracy: 0.8977\n",
            "Epoch 88/500\n",
            "375/375 [==============================] - 6s 15ms/step - loss: 0.1780 - accuracy: 0.9413 - val_loss: 0.9206 - val_accuracy: 0.8924\n",
            "Epoch 89/500\n",
            "375/375 [==============================] - 6s 15ms/step - loss: 0.1791 - accuracy: 0.9427 - val_loss: 0.8783 - val_accuracy: 0.8941\n",
            "Epoch 90/500\n",
            "375/375 [==============================] - 6s 15ms/step - loss: 0.1836 - accuracy: 0.9400 - val_loss: 0.8349 - val_accuracy: 0.8957\n",
            "Epoch 91/500\n",
            "375/375 [==============================] - 6s 15ms/step - loss: 0.1886 - accuracy: 0.9419 - val_loss: 0.8600 - val_accuracy: 0.8923\n",
            "Epoch 92/500\n",
            "375/375 [==============================] - 5s 15ms/step - loss: 0.1864 - accuracy: 0.9417 - val_loss: 0.8534 - val_accuracy: 0.8951\n",
            "Epoch 93/500\n",
            "375/375 [==============================] - 5s 14ms/step - loss: 0.1785 - accuracy: 0.9420 - val_loss: 0.9215 - val_accuracy: 0.8954\n",
            "Epoch 94/500\n",
            "375/375 [==============================] - 5s 15ms/step - loss: 0.1901 - accuracy: 0.9409 - val_loss: 0.9536 - val_accuracy: 0.8938\n",
            "Epoch 95/500\n",
            "375/375 [==============================] - 6s 15ms/step - loss: 0.1850 - accuracy: 0.9425 - val_loss: 0.9093 - val_accuracy: 0.8966\n",
            "Epoch 96/500\n",
            "375/375 [==============================] - 5s 15ms/step - loss: 0.1746 - accuracy: 0.9417 - val_loss: 0.8933 - val_accuracy: 0.8977\n",
            "Epoch 97/500\n",
            "375/375 [==============================] - 5s 14ms/step - loss: 0.1781 - accuracy: 0.9443 - val_loss: 0.9181 - val_accuracy: 0.8916\n",
            "Epoch 98/500\n",
            "375/375 [==============================] - 5s 14ms/step - loss: 0.1833 - accuracy: 0.9423 - val_loss: 0.9495 - val_accuracy: 0.8914\n",
            "Epoch 99/500\n",
            "375/375 [==============================] - 5s 14ms/step - loss: 0.1772 - accuracy: 0.9431 - val_loss: 0.9595 - val_accuracy: 0.8947\n",
            "Epoch 100/500\n",
            "375/375 [==============================] - 5s 14ms/step - loss: 0.1814 - accuracy: 0.9438 - val_loss: 0.9107 - val_accuracy: 0.8923\n",
            "Epoch 101/500\n",
            "375/375 [==============================] - 5s 15ms/step - loss: 0.1744 - accuracy: 0.9446 - val_loss: 0.9231 - val_accuracy: 0.8985\n",
            "Epoch 102/500\n",
            "375/375 [==============================] - 6s 15ms/step - loss: 0.1693 - accuracy: 0.9446 - val_loss: 0.9604 - val_accuracy: 0.8860\n",
            "Epoch 103/500\n",
            "375/375 [==============================] - 5s 15ms/step - loss: 0.1886 - accuracy: 0.9439 - val_loss: 0.9549 - val_accuracy: 0.8935\n",
            "Epoch 104/500\n",
            "375/375 [==============================] - 6s 15ms/step - loss: 0.1725 - accuracy: 0.9451 - val_loss: 0.9156 - val_accuracy: 0.8961\n",
            "Epoch 105/500\n",
            "375/375 [==============================] - 5s 15ms/step - loss: 0.1857 - accuracy: 0.9453 - val_loss: 0.9321 - val_accuracy: 0.8998\n",
            "Epoch 106/500\n",
            "375/375 [==============================] - 6s 15ms/step - loss: 0.1841 - accuracy: 0.9452 - val_loss: 0.8681 - val_accuracy: 0.8965\n",
            "Epoch 107/500\n",
            "375/375 [==============================] - 6s 15ms/step - loss: 0.1689 - accuracy: 0.9469 - val_loss: 1.1018 - val_accuracy: 0.8997\n",
            "Epoch 108/500\n",
            "375/375 [==============================] - 5s 14ms/step - loss: 0.1682 - accuracy: 0.9464 - val_loss: 0.9605 - val_accuracy: 0.8947\n"
          ]
        }
      ]
    },
    {
      "cell_type": "code",
      "source": [
        "#đánh giá chất lượng của mô hình và vẽ lại\n",
        "score = model.evaluate(x_test,y_test,verbose=0)\n",
        "print('Sai số kiểm tra là: ',score[0])\n",
        "print('Độ chính xác kiểm tra là: ',score[1])\n",
        "#vẽ đồ thị\n",
        "plt.plot(history.history['accuracy'])\n",
        "plt.plot(history.history['val_accuracy'])\n",
        "plt.title('model accuracy')\n",
        "plt.ylabel('accuracy')\n",
        "plt.xlabel('epochs')\n",
        "plt.legend(['train','Validation'])\n",
        "plt.show()"
      ],
      "metadata": {
        "colab": {
          "base_uri": "https://localhost:8080/",
          "height": 330
        },
        "id": "cBaiAxsWQ-L_",
        "outputId": "df7efd6e-cc6a-4d15-d574-fd8637cdfc2c"
      },
      "execution_count": null,
      "outputs": [
        {
          "output_type": "stream",
          "name": "stdout",
          "text": [
            "Sai số kiểm tra là:  1.1239511966705322\n",
            "Độ chính xác kiểm tra là:  0.8885999917984009\n"
          ]
        },
        {
          "output_type": "display_data",
          "data": {
            "text/plain": [
              "<Figure size 432x288 with 1 Axes>"
            ],
            "image/png": "[encoded data removed]"
          },
          "metadata": {
            "needs_background": "light"
          }
        }
      ]
    },
    {
      "cell_type": "code",
      "source": [
        ""
      ],
      "metadata": {
        "id": "ZPZLD_6HTbql"
      },
      "execution_count": null,
      "outputs": []
    }
  ]
}